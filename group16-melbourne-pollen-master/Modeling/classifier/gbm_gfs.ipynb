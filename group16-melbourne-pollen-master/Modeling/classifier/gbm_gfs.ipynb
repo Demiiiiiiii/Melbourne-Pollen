{
 "cells": [
  {
   "cell_type": "markdown",
   "metadata": {},
   "source": [
    "# Classification Models\n",
    "\n",
    "In this notebook, we will perform data preprocessing and build classifiers for the pollen count data. We will also apply feature selection methods on the dataset. We will try several classification models to compare and discuss the most reasonable and appropriate model."
   ]
  },
  {
   "cell_type": "code",
   "execution_count": 28,
   "metadata": {},
   "outputs": [],
   "source": [
    "from logging import warning\n",
    "import pickle\n",
    "import datetime\n",
    "import pandas as pd\n",
    "import numpy as np\n",
    "import seaborn as sns\n",
    "from sklearn.datasets import make_classification\n",
    "from imblearn.over_sampling import RandomOverSampler\n",
    "from sklearn.preprocessing import Normalizer\n",
    "\n",
    "from sklearn.metrics import confusion_matrix, accuracy_score, classification_report, recall_score\n",
    "import matplotlib.pyplot as plt\n",
    "\n",
    "import warnings\n",
    "warnings.filterwarnings('ignore')"
   ]
  },
  {
   "cell_type": "markdown",
   "metadata": {},
   "source": [
    "## Preprocessing\n",
    "\n",
    "At the beginning, we assign the label for each instance according to the pollun counts. And the label spliting standard is based on [Melbourne Pollen](https://www.melbournepollen.com.au/)\n",
    "\n",
    "$$ \n",
    "\\text{Label} =\n",
    "    \\left \\{ \n",
    "    \\begin{aligned} \n",
    "        1 \\quad & \\text{if}\\quad 0  \\leq \\text{pollen count} < 20 \\\\ \n",
    "        2 \\quad & \\text{if}\\quad 20 \\leq \\text{pollen count} < 50 \\\\ \n",
    "        3 \\quad & \\text{if}\\quad 50 \\leq \\text{pollen count} < 100 \\\\ \n",
    "        4 \\quad & \\text{if}\\quad         \\text{pollen count} \\geq 100 \\\\ \n",
    "        \n",
    "    \\end{aligned} \n",
    "    \\right. \n",
    "$$"
   ]
  },
  {
   "cell_type": "code",
   "execution_count": 29,
   "metadata": {},
   "outputs": [],
   "source": [
    "# grass_df.head(2)"
   ]
  },
  {
   "cell_type": "code",
   "execution_count": 30,
   "metadata": {},
   "outputs": [],
   "source": [
    "# load weather data\n",
    "weather_dict = pickle.load(open('../weather_v2.pkl', \"rb\"))\n",
    "\n",
    "\n",
    "# add grass count data and assigned by labels\n",
    "grass_df = pd.read_csv('../../preprocessing/gfs_preprocessed_new.csv')\n",
    "# grass_df\n",
    "\n",
    "grass_df['date'] = grass_df['date'].apply(lambda x:datetime.datetime.strptime(x, '%Y-%m-%d'))\n",
    "# grass_df['non_grass'] = grass_df['Total'] - grass_df['grass_count']\n",
    "\n",
    "label = [[100, 4], [50, 3], [20, 2], [-1, 1]]\n",
    "\n",
    "def get_label(x):\n",
    "    for i in label:\n",
    "        if x >= i[0]:\n",
    "            return i[1]\n",
    "\n",
    "grass_df['label'] = grass_df['grass_count'].apply(lambda x:get_label(x))"
   ]
  },
  {
   "cell_type": "code",
   "execution_count": 31,
   "metadata": {},
   "outputs": [
    {
     "data": {
      "text/plain": [
       "1    2551\n",
       "2     177\n",
       "3      96\n",
       "4      58\n",
       "Name: label, dtype: int64"
      ]
     },
     "execution_count": 31,
     "metadata": {},
     "output_type": "execute_result"
    }
   ],
   "source": [
    "grass_df.label.value_counts()"
   ]
  },
  {
   "cell_type": "markdown",
   "metadata": {},
   "source": [
    "Filter the data in **Melbourne** and merge the pollen data and the weather data as the train dataset"
   ]
  },
  {
   "cell_type": "code",
   "execution_count": 32,
   "metadata": {},
   "outputs": [
    {
     "data": {
      "text/html": [
       "<div>\n",
       "<style scoped>\n",
       "    .dataframe tbody tr th:only-of-type {\n",
       "        vertical-align: middle;\n",
       "    }\n",
       "\n",
       "    .dataframe tbody tr th {\n",
       "        vertical-align: top;\n",
       "    }\n",
       "\n",
       "    .dataframe thead th {\n",
       "        text-align: right;\n",
       "    }\n",
       "</style>\n",
       "<table border=\"1\" class=\"dataframe\">\n",
       "  <thead>\n",
       "    <tr style=\"text-align: right;\">\n",
       "      <th></th>\n",
       "      <th>t_mean_9am</th>\n",
       "      <th>t_min_9am</th>\n",
       "      <th>t_max_9am</th>\n",
       "      <th>t_sd_9am</th>\n",
       "      <th>t_2m_mean_9am</th>\n",
       "      <th>t_2m_min_9am</th>\n",
       "      <th>t_2m_max_9am</th>\n",
       "      <th>t_2m_sd_9am</th>\n",
       "      <th>msl_mean_9am</th>\n",
       "      <th>msl_min_9am</th>\n",
       "      <th>...</th>\n",
       "      <th>v_10m_max_4pm</th>\n",
       "      <th>v_10m_sd_4pm</th>\n",
       "      <th>pwat_mean_4pm</th>\n",
       "      <th>pwat_min_4pm</th>\n",
       "      <th>pwat_max_4pm</th>\n",
       "      <th>pwat_sd_4pm</th>\n",
       "      <th>year</th>\n",
       "      <th>month</th>\n",
       "      <th>season</th>\n",
       "      <th>label</th>\n",
       "    </tr>\n",
       "  </thead>\n",
       "  <tbody>\n",
       "    <tr>\n",
       "      <th>0</th>\n",
       "      <td>285.875</td>\n",
       "      <td>280.1</td>\n",
       "      <td>290.8</td>\n",
       "      <td>4.78008</td>\n",
       "      <td>285.75</td>\n",
       "      <td>280.4</td>\n",
       "      <td>290.3</td>\n",
       "      <td>4.430575</td>\n",
       "      <td>101775.75</td>\n",
       "      <td>101654.0</td>\n",
       "      <td>...</td>\n",
       "      <td>6.0</td>\n",
       "      <td>1.961293</td>\n",
       "      <td>13.875</td>\n",
       "      <td>13.0</td>\n",
       "      <td>14.9</td>\n",
       "      <td>0.880814</td>\n",
       "      <td>2000</td>\n",
       "      <td>1</td>\n",
       "      <td>1</td>\n",
       "      <td>1</td>\n",
       "    </tr>\n",
       "    <tr>\n",
       "      <th>1</th>\n",
       "      <td>285.875</td>\n",
       "      <td>280.1</td>\n",
       "      <td>290.8</td>\n",
       "      <td>4.78008</td>\n",
       "      <td>285.75</td>\n",
       "      <td>280.4</td>\n",
       "      <td>290.3</td>\n",
       "      <td>4.430575</td>\n",
       "      <td>101775.75</td>\n",
       "      <td>101654.0</td>\n",
       "      <td>...</td>\n",
       "      <td>2.9</td>\n",
       "      <td>5.402777</td>\n",
       "      <td>16.925</td>\n",
       "      <td>13.6</td>\n",
       "      <td>20.0</td>\n",
       "      <td>2.780138</td>\n",
       "      <td>2000</td>\n",
       "      <td>1</td>\n",
       "      <td>1</td>\n",
       "      <td>1</td>\n",
       "    </tr>\n",
       "    <tr>\n",
       "      <th>2</th>\n",
       "      <td>285.875</td>\n",
       "      <td>280.1</td>\n",
       "      <td>290.8</td>\n",
       "      <td>4.78008</td>\n",
       "      <td>285.75</td>\n",
       "      <td>280.4</td>\n",
       "      <td>290.3</td>\n",
       "      <td>4.430575</td>\n",
       "      <td>101775.75</td>\n",
       "      <td>101654.0</td>\n",
       "      <td>...</td>\n",
       "      <td>5.7</td>\n",
       "      <td>1.971464</td>\n",
       "      <td>22.625</td>\n",
       "      <td>18.8</td>\n",
       "      <td>24.7</td>\n",
       "      <td>2.617091</td>\n",
       "      <td>2000</td>\n",
       "      <td>1</td>\n",
       "      <td>1</td>\n",
       "      <td>1</td>\n",
       "    </tr>\n",
       "    <tr>\n",
       "      <th>3</th>\n",
       "      <td>285.875</td>\n",
       "      <td>280.1</td>\n",
       "      <td>290.8</td>\n",
       "      <td>4.78008</td>\n",
       "      <td>285.75</td>\n",
       "      <td>280.4</td>\n",
       "      <td>290.3</td>\n",
       "      <td>4.430575</td>\n",
       "      <td>101775.75</td>\n",
       "      <td>101654.0</td>\n",
       "      <td>...</td>\n",
       "      <td>6.2</td>\n",
       "      <td>1.161895</td>\n",
       "      <td>16.400</td>\n",
       "      <td>12.3</td>\n",
       "      <td>20.2</td>\n",
       "      <td>3.799123</td>\n",
       "      <td>2000</td>\n",
       "      <td>1</td>\n",
       "      <td>1</td>\n",
       "      <td>1</td>\n",
       "    </tr>\n",
       "    <tr>\n",
       "      <th>4</th>\n",
       "      <td>285.875</td>\n",
       "      <td>280.1</td>\n",
       "      <td>290.8</td>\n",
       "      <td>4.78008</td>\n",
       "      <td>285.75</td>\n",
       "      <td>280.4</td>\n",
       "      <td>290.3</td>\n",
       "      <td>4.430575</td>\n",
       "      <td>101775.75</td>\n",
       "      <td>101654.0</td>\n",
       "      <td>...</td>\n",
       "      <td>5.6</td>\n",
       "      <td>1.286792</td>\n",
       "      <td>14.550</td>\n",
       "      <td>13.4</td>\n",
       "      <td>15.1</td>\n",
       "      <td>0.776745</td>\n",
       "      <td>2000</td>\n",
       "      <td>1</td>\n",
       "      <td>1</td>\n",
       "      <td>1</td>\n",
       "    </tr>\n",
       "  </tbody>\n",
       "</table>\n",
       "<p>5 rows × 60 columns</p>\n",
       "</div>"
      ],
      "text/plain": [
       "   t_mean_9am  t_min_9am  t_max_9am  t_sd_9am  t_2m_mean_9am  t_2m_min_9am  \\\n",
       "0     285.875      280.1      290.8   4.78008         285.75         280.4   \n",
       "1     285.875      280.1      290.8   4.78008         285.75         280.4   \n",
       "2     285.875      280.1      290.8   4.78008         285.75         280.4   \n",
       "3     285.875      280.1      290.8   4.78008         285.75         280.4   \n",
       "4     285.875      280.1      290.8   4.78008         285.75         280.4   \n",
       "\n",
       "   t_2m_max_9am  t_2m_sd_9am  msl_mean_9am  msl_min_9am  ...  v_10m_max_4pm  \\\n",
       "0         290.3     4.430575     101775.75     101654.0  ...            6.0   \n",
       "1         290.3     4.430575     101775.75     101654.0  ...            2.9   \n",
       "2         290.3     4.430575     101775.75     101654.0  ...            5.7   \n",
       "3         290.3     4.430575     101775.75     101654.0  ...            6.2   \n",
       "4         290.3     4.430575     101775.75     101654.0  ...            5.6   \n",
       "\n",
       "   v_10m_sd_4pm  pwat_mean_4pm  pwat_min_4pm  pwat_max_4pm  pwat_sd_4pm  year  \\\n",
       "0      1.961293         13.875          13.0          14.9     0.880814  2000   \n",
       "1      5.402777         16.925          13.6          20.0     2.780138  2000   \n",
       "2      1.971464         22.625          18.8          24.7     2.617091  2000   \n",
       "3      1.161895         16.400          12.3          20.2     3.799123  2000   \n",
       "4      1.286792         14.550          13.4          15.1     0.776745  2000   \n",
       "\n",
       "   month  season  label  \n",
       "0      1       1      1  \n",
       "1      1       1      1  \n",
       "2      1       1      1  \n",
       "3      1       1      1  \n",
       "4      1       1      1  \n",
       "\n",
       "[5 rows x 60 columns]"
      ]
     },
     "execution_count": 32,
     "metadata": {},
     "output_type": "execute_result"
    }
   ],
   "source": [
    "# weather_dict[1]\n",
    "full_data = grass_df.drop(['train', 'date', 'grass_count'], axis=1)\n",
    "full_data.head()"
   ]
  },
  {
   "cell_type": "code",
   "execution_count": 33,
   "metadata": {},
   "outputs": [],
   "source": [
    "level1 = full_data.loc[full_data.label == 1]\n",
    "level2 = full_data.loc[full_data.label == 2]\n",
    "level3 = full_data.loc[full_data.label == 3]\n",
    "level4 = full_data.loc[full_data.label == 4]\n",
    "\n",
    "# full_data = pd.concat((level1[:177], level2, level3, level4), axis=1)"
   ]
  },
  {
   "cell_type": "code",
   "execution_count": 34,
   "metadata": {},
   "outputs": [],
   "source": [
    "full_data = pd.concat((level1[:177], level2, level3, level4), axis=0)"
   ]
  },
  {
   "cell_type": "markdown",
   "metadata": {},
   "source": [
    "#### Randomly Re-Sample\n",
    "Generate variables in dataframe as `X_origin`, choose the label as target as `Y_origin`. </br>\n",
    "Since the labels in raw data doesn't distribute evenly, so we use the `RandomOverSample` method to resample the data. ***"
   ]
  },
  {
   "cell_type": "code",
   "execution_count": 35,
   "metadata": {},
   "outputs": [
    {
     "name": "stdout",
     "output_type": "stream",
     "text": [
      "1    177\n",
      "2    177\n",
      "3    177\n",
      "4    177\n",
      "Name: label, dtype: int64\n"
     ]
    }
   ],
   "source": [
    "X_origin = full_data.drop(['label'], axis=1).reset_index(drop=True)\n",
    "Y_origin = full_data['label']\n",
    "\n",
    "X_origin, Y_origin = RandomOverSampler(random_state=0).fit_resample(X_origin, Y_origin)\n",
    "print(Y_origin.value_counts())"
   ]
  },
  {
   "cell_type": "code",
   "execution_count": 36,
   "metadata": {},
   "outputs": [
    {
     "data": {
      "text/plain": [
       "(708, 59)"
      ]
     },
     "execution_count": 36,
     "metadata": {},
     "output_type": "execute_result"
    }
   ],
   "source": [
    "X_origin.shape"
   ]
  },
  {
   "cell_type": "markdown",
   "metadata": {},
   "source": [
    "# Modelling\n",
    "\n",
    "### Benchmark\n",
    "\n",
    "The `sklearn.ensemble.GradientBoostingClassifier` is used as benchmark model."
   ]
  },
  {
   "cell_type": "code",
   "execution_count": 9,
   "metadata": {},
   "outputs": [
    {
     "data": {
      "text/plain": [
       "0.8290598290598291"
      ]
     },
     "execution_count": 9,
     "metadata": {},
     "output_type": "execute_result"
    }
   ],
   "source": [
    "from sklearn.ensemble import GradientBoostingClassifier\n",
    "from sklearn.model_selection import train_test_split, cross_val_score\n",
    "\n",
    "\n",
    "X_train, X_test, Y_train, Y_test = train_test_split(X_origin, Y_origin, test_size=0.33, random_state=88)\n",
    "\n",
    "model = GradientBoostingClassifier()\n",
    "model.fit(X_train, Y_train)\n",
    "model.score(X_test, Y_test)"
   ]
  },
  {
   "cell_type": "markdown",
   "metadata": {},
   "source": [
    "### Model Evaluation"
   ]
  },
  {
   "cell_type": "code",
   "execution_count": null,
   "metadata": {},
   "outputs": [],
   "source": []
  },
  {
   "cell_type": "code",
   "execution_count": 11,
   "metadata": {},
   "outputs": [
    {
     "data": {
      "image/png": "[encoded data removed]",
      "text/plain": [
       "<Figure size 432x288 with 2 Axes>"
      ]
     },
     "metadata": {
      "needs_background": "light"
     },
     "output_type": "display_data"
    }
   ],
   "source": [
    "from sklearn.metrics import confusion_matrix, ConfusionMatrixDisplay\n",
    "\n",
    "Y_pred = model.predict(X_test)\n",
    "\n",
    "# confusion_matrix(Y_test, Y_pred)\n",
    "cm = confusion_matrix(Y_test, Y_pred, labels=model.classes_)\n",
    "disp = ConfusionMatrixDisplay(confusion_matrix=cm,\n",
    "                              display_labels=model.classes_)\n",
    "disp.plot()\n",
    "\n",
    "plt.show()"
   ]
  },
  {
   "cell_type": "code",
   "execution_count": 12,
   "metadata": {},
   "outputs": [
    {
     "name": "stdout",
     "output_type": "stream",
     "text": [
      "              precision    recall  f1-score   support\n",
      "\n",
      "           1       1.00      1.00      1.00        56\n",
      "           2       0.91      0.62      0.74        66\n",
      "           3       0.62      0.87      0.72        53\n",
      "           4       0.86      0.86      0.86        59\n",
      "\n",
      "    accuracy                           0.83       234\n",
      "   macro avg       0.85      0.84      0.83       234\n",
      "weighted avg       0.86      0.83      0.83       234\n",
      "\n"
     ]
    }
   ],
   "source": [
    "from sklearn.metrics import classification_report\n",
    "\n",
    "class_report = classification_report(Y_test, Y_pred)\n",
    "print(class_report)"
   ]
  },
  {
   "cell_type": "code",
   "execution_count": 26,
   "metadata": {},
   "outputs": [],
   "source": [
    "from sklearn.metrics import f1_score\n",
    "def print_scores(y_test, y_pred):\n",
    "    print('='*10 + 'Evaluation results' + '='*10)\n",
    "    print('The accuracy  : {}'.format(accuracy_score(y_test, y_pred)))\n",
    "    print('  The recall  : {}'.format(recall_score(y_test, y_pred, average='weighted')))\n",
    "    print('      The f1  : {}'.format(f1_score(y_test, y_pred, average='weighted')))"
   ]
  },
  {
   "cell_type": "code",
   "execution_count": 27,
   "metadata": {},
   "outputs": [
    {
     "name": "stdout",
     "output_type": "stream",
     "text": [
      "==========Evaluation results==========\n",
      "The accuracy  : 0.8290598290598291\n",
      "  The recall  : 0.8290598290598291\n",
      "      The f1  : 0.8297028100177706\n"
     ]
    }
   ],
   "source": [
    "classif_y_test = []\n",
    "for i in Y_test:\n",
    "    for j in range(4):\n",
    "        if i[j] == 1:\n",
    "            classif_y_test.append(j+1)\n",
    "# classif_y_test\n",
    "print_scores(classif_y_test, Y_pred)"
   ]
  },
  {
   "cell_type": "code",
   "execution_count": 13,
   "metadata": {},
   "outputs": [],
   "source": [
    "import numpy as np\n",
    "import matplotlib.pyplot as plt\n",
    "from itertools import cycle\n",
    "\n",
    "from sklearn import svm, datasets\n",
    "from sklearn.metrics import roc_curve, auc\n",
    "from sklearn.model_selection import train_test_split\n",
    "from sklearn.preprocessing import label_binarize\n",
    "from sklearn.multiclass import OneVsRestClassifier\n",
    "from sklearn.metrics import roc_auc_score\n",
    "\n",
    "model = OneVsRestClassifier(GradientBoostingClassifier())\n",
    "\n",
    "y_score = model.fit(X_train, Y_train).decision_function(X_test)"
   ]
  },
  {
   "cell_type": "code",
   "execution_count": 14,
   "metadata": {},
   "outputs": [],
   "source": [
    "def transform(y):\n",
    "    result = np.zeros([len(y), 4])\n",
    "    for i in range(len(y)):\n",
    "        result[i, int(y[i]-1)] += 1\n",
    "    return result\n",
    "\n",
    "Y_test = transform(Y_test.to_numpy())"
   ]
  },
  {
   "cell_type": "code",
   "execution_count": 15,
   "metadata": {},
   "outputs": [
    {
     "data": {
      "image/png": "[encoded data removed]",
      "text/plain": [
       "<Figure size 432x288 with 1 Axes>"
      ]
     },
     "metadata": {
      "needs_background": "light"
     },
     "output_type": "display_data"
    }
   ],
   "source": [
    "n_classes = 4\n",
    "lw = 2\n",
    "\n",
    "fpr = dict()\n",
    "tpr = dict()\n",
    "roc_auc = dict()\n",
    "for i in range(n_classes):\n",
    "    fpr[i], tpr[i], _ = roc_curve(Y_test[:, i], y_score[:, i])\n",
    "    roc_auc[i] = auc(fpr[i], tpr[i])\n",
    "\n",
    "# Compute micro-average ROC curve and ROC area\n",
    "fpr[\"micro\"], tpr[\"micro\"], _ = roc_curve(Y_test.ravel(), y_score.ravel())\n",
    "roc_auc[\"micro\"] = auc(fpr[\"micro\"], tpr[\"micro\"])\n",
    "\n",
    "# First aggregate all false positive rates\n",
    "all_fpr = np.unique(np.concatenate([fpr[i] for i in range(n_classes)]))\n",
    "\n",
    "# Then interpolate all ROC curves at this points\n",
    "mean_tpr = np.zeros_like(all_fpr)\n",
    "for i in range(n_classes):\n",
    "    mean_tpr += np.interp(all_fpr, fpr[i], tpr[i])\n",
    "\n",
    "# Finally average it and compute AUC\n",
    "mean_tpr /= n_classes\n",
    "\n",
    "fpr[\"macro\"] = all_fpr\n",
    "tpr[\"macro\"] = mean_tpr\n",
    "roc_auc[\"macro\"] = auc(fpr[\"macro\"], tpr[\"macro\"])\n",
    "\n",
    "# Plot all ROC curves\n",
    "plt.figure()\n",
    "plt.plot(\n",
    "    fpr[\"micro\"],\n",
    "    tpr[\"micro\"],\n",
    "    label=\"micro-average ROC curve (area = {0:0.2f})\".format(roc_auc[\"micro\"]),\n",
    "    color=\"deeppink\",\n",
    "    linestyle=\":\",\n",
    "    linewidth=4,\n",
    ")\n",
    "\n",
    "plt.plot(\n",
    "    fpr[\"macro\"],\n",
    "    tpr[\"macro\"],\n",
    "    label=\"macro-average ROC curve (area = {0:0.2f})\".format(roc_auc[\"macro\"]),\n",
    "    color=\"navy\",\n",
    "    linestyle=\":\",\n",
    "    linewidth=4,\n",
    ")\n",
    "\n",
    "colors = cycle([\"aqua\", \"darkorange\", \"cornflowerblue\"])\n",
    "for i, color in zip(range(n_classes), colors):\n",
    "    plt.plot(\n",
    "        fpr[i],\n",
    "        tpr[i],\n",
    "        color=color,\n",
    "        lw=lw,\n",
    "        label=\"ROC curve of class {0} (area = {1:0.2f})\".format(i, roc_auc[i]),\n",
    "    )\n",
    "\n",
    "plt.plot([0, 1], [0, 1], \"k--\", lw=lw)\n",
    "plt.xlim([0.0, 1.0])\n",
    "plt.ylim([0.0, 1.05])\n",
    "plt.xlabel(\"False Positive Rate\")\n",
    "plt.ylabel(\"True Positive Rate\")\n",
    "plt.title(\"ROC of Grandient Boosting Classifier\")\n",
    "plt.legend(loc=\"lower right\")\n",
    "plt.show()"
   ]
  },
  {
   "cell_type": "markdown",
   "metadata": {},
   "source": [
    "Check the overfitting of model."
   ]
  },
  {
   "cell_type": "code",
   "execution_count": 23,
   "metadata": {},
   "outputs": [
    {
     "name": "stderr",
     "output_type": "stream",
     "text": [
      "[Parallel(n_jobs=-1)]: Using backend LokyBackend with 8 concurrent workers.\n",
      "[Parallel(n_jobs=-1)]: Done   2 out of  25 | elapsed:   10.6s remaining:  2.0min\n",
      "[Parallel(n_jobs=-1)]: Done  25 out of  25 | elapsed:  3.4min finished\n"
     ]
    },
    {
     "data": {
      "image/png": "[encoded data removed]",
      "text/plain": [
       "<Figure size 432x288 with 1 Axes>"
      ]
     },
     "metadata": {
      "needs_background": "light"
     },
     "output_type": "display_data"
    }
   ],
   "source": [
    "from support_evaluation import check_overfitting\n",
    "check_overfitting(GradientBoostingClassifier(), X_origin, Y_origin)"
   ]
  },
  {
   "cell_type": "markdown",
   "metadata": {},
   "source": [
    "The plot of learning curve of `GradientBoostingClassifier` model presents that the classification accuracy of training score is always larger than cross validation score, which presents the overfitting of model."
   ]
  },
  {
   "cell_type": "code",
   "execution_count": 24,
   "metadata": {},
   "outputs": [],
   "source": [
    "from sklearn.pipeline import Pipeline\n",
    "from sklearn.model_selection import GridSearchCV\n",
    "import time\n",
    "\n",
    "def grid_search(pipeline, parameters, X, y):\n",
    "    gs = GridSearchCV(pipeline, parameters, cv=5, n_jobs=-1, verbose=1)\n",
    "    \n",
    "    print('Performing grid search...')\n",
    "    print('pipeline:', [name for name, _ in pipeline.steps])\n",
    "    print('parameters:')\n",
    "    print(parameters)\n",
    "    t0 = time.time()\n",
    "    gs.fit(X, y)\n",
    "    print('done in %0.3fs' % (time.time() - t0))\n",
    "    print()\n",
    "    \n",
    "    # print out best 5 results\n",
    "    mean_score = gs.cv_results_['mean_test_score']\n",
    "    param_set = gs.cv_results_['params']\n",
    "    for i in mean_score.argsort()[-5:]:\n",
    "        print(param_set[i])\n",
    "        print(gs.cv_results_['mean_test_score'][i])\n",
    "        print('='*30)\n",
    "    \n",
    "    return gs"
   ]
  },
  {
   "cell_type": "code",
   "execution_count": 25,
   "metadata": {},
   "outputs": [],
   "source": [
    "from sklearn.feature_selection import SelectKBest, chi2, mutual_info_classif, f_regression, f_classif, mutual_info_regression\n",
    "\n",
    "\n",
    "pipeline = Pipeline(\n",
    "    [\n",
    "        ('kbest', SelectKBest()),\n",
    "        ('clf', GradientBoostingClassifier())\n",
    "    ]\n",
    ")\n",
    "\n",
    "# parameters={\n",
    "#     'clf__hidden_layer_sizes': [(50,50,50), (50,100,50), (100,)],\n",
    "#     'clf__activation': ['tanh', 'relu'],\n",
    "#     'clf__solver': ['sgd', 'adam'],\n",
    "#     'clf__alpha': [0.0001, 0.05],\n",
    "#     'clf__learning_rate': ['constant','adaptive'],\n",
    "# }\n",
    "\n",
    "parameters = {\n",
    "    'kbest__score_func': (f_classif, mutual_info_classif),\n",
    "    'kbest__k':(20, 50, 100, 150, 'all'),\n",
    "    # \"clf__loss\":[\"deviance\"],\n",
    "    \"clf__learning_rate\": [0.01, 0.05, 0.1, 0.15, 0.2],\n",
    "    # \"clf__max_features\":[\"log2\",\"sqrt\"],\n",
    "    # \"clf__criterion\": [\"friedman_mse\",  \"mae\"],\n",
    "    }\n"
   ]
  },
  {
   "cell_type": "code",
   "execution_count": 26,
   "metadata": {},
   "outputs": [
    {
     "name": "stdout",
     "output_type": "stream",
     "text": [
      "Performing grid search...\n",
      "pipeline: ['kbest', 'clf']\n",
      "parameters:\n",
      "{'kbest__score_func': (<function f_regression at 0x13d9bcd30>, <function mutual_info_regression at 0x111ef6f80>), 'kbest__k': (20, 50, 100, 150, 'all'), 'clf__learning_rate': [0.01, 0.05, 0.1, 0.15, 0.2]}\n",
      "Fitting 5 folds for each of 50 candidates, totalling 250 fits\n",
      "done in 1915.043s\n",
      "\n",
      "{'clf__learning_rate': 0.05, 'kbest__k': 150, 'kbest__score_func': <function f_regression at 0x13d9bcd30>}\n",
      "nan\n",
      "==============================\n",
      "{'clf__learning_rate': 0.05, 'kbest__k': 150, 'kbest__score_func': <function mutual_info_regression at 0x111ef6f80>}\n",
      "nan\n",
      "==============================\n",
      "{'clf__learning_rate': 0.1, 'kbest__k': 150, 'kbest__score_func': <function mutual_info_regression at 0x111ef6f80>}\n",
      "nan\n",
      "==============================\n",
      "{'clf__learning_rate': 0.1, 'kbest__k': 100, 'kbest__score_func': <function mutual_info_regression at 0x111ef6f80>}\n",
      "nan\n",
      "==============================\n",
      "{'clf__learning_rate': 0.1, 'kbest__k': 100, 'kbest__score_func': <function f_regression at 0x13d9bcd30>}\n",
      "nan\n",
      "==============================\n"
     ]
    }
   ],
   "source": [
    "gs = grid_search(pipeline, parameters, X_origin, Y_origin)"
   ]
  },
  {
   "cell_type": "code",
   "execution_count": 27,
   "metadata": {},
   "outputs": [
    {
     "data": {
      "text/html": [
       "<div>\n",
       "<style scoped>\n",
       "    .dataframe tbody tr th:only-of-type {\n",
       "        vertical-align: middle;\n",
       "    }\n",
       "\n",
       "    .dataframe tbody tr th {\n",
       "        vertical-align: top;\n",
       "    }\n",
       "\n",
       "    .dataframe thead th {\n",
       "        text-align: right;\n",
       "    }\n",
       "</style>\n",
       "<table border=\"1\" class=\"dataframe\">\n",
       "  <thead>\n",
       "    <tr style=\"text-align: right;\">\n",
       "      <th></th>\n",
       "      <th>Unnamed: 0</th>\n",
       "      <th>Elevation</th>\n",
       "      <th>Total</th>\n",
       "      <th>Location</th>\n",
       "      <th>grass_count</th>\n",
       "      <th>label</th>\n",
       "      <th>av_abl_ht</th>\n",
       "      <th>accum_prcp</th>\n",
       "      <th>av_lwsfcdown</th>\n",
       "      <th>av_mslp</th>\n",
       "      <th>...</th>\n",
       "      <th>thermal_time_180D</th>\n",
       "      <th>soil_mois_1D</th>\n",
       "      <th>soil_mois_10D</th>\n",
       "      <th>soil_mois_30D</th>\n",
       "      <th>soil_mois_90D</th>\n",
       "      <th>soil_mois_180D</th>\n",
       "      <th>date</th>\n",
       "      <th>year</th>\n",
       "      <th>date_1</th>\n",
       "      <th>month</th>\n",
       "    </tr>\n",
       "  </thead>\n",
       "  <tbody>\n",
       "    <tr>\n",
       "      <th>0</th>\n",
       "      <td>769</td>\n",
       "      <td>13.0</td>\n",
       "      <td>76.0</td>\n",
       "      <td>25</td>\n",
       "      <td>4.0</td>\n",
       "      <td>4.0</td>\n",
       "      <td>1490.955</td>\n",
       "      <td>0.130126</td>\n",
       "      <td>291.743750</td>\n",
       "      <td>100769.72</td>\n",
       "      <td>...</td>\n",
       "      <td>476.875</td>\n",
       "      <td>2537.160156</td>\n",
       "      <td>25259.441406</td>\n",
       "      <td>73932.160156</td>\n",
       "      <td>214786.558594</td>\n",
       "      <td>413919.671875</td>\n",
       "      <td>2000-10-01</td>\n",
       "      <td>2000</td>\n",
       "      <td>10-01</td>\n",
       "      <td>10</td>\n",
       "    </tr>\n",
       "    <tr>\n",
       "      <th>1</th>\n",
       "      <td>770</td>\n",
       "      <td>13.0</td>\n",
       "      <td>63.0</td>\n",
       "      <td>25</td>\n",
       "      <td>2.0</td>\n",
       "      <td>4.0</td>\n",
       "      <td>1083.750</td>\n",
       "      <td>0.011325</td>\n",
       "      <td>312.027500</td>\n",
       "      <td>101798.64</td>\n",
       "      <td>...</td>\n",
       "      <td>477.125</td>\n",
       "      <td>2537.273438</td>\n",
       "      <td>25255.527344</td>\n",
       "      <td>73959.710938</td>\n",
       "      <td>214964.300781</td>\n",
       "      <td>414139.425781</td>\n",
       "      <td>2000-10-02</td>\n",
       "      <td>2000</td>\n",
       "      <td>10-02</td>\n",
       "      <td>10</td>\n",
       "    </tr>\n",
       "    <tr>\n",
       "      <th>2</th>\n",
       "      <td>771</td>\n",
       "      <td>13.0</td>\n",
       "      <td>65.0</td>\n",
       "      <td>25</td>\n",
       "      <td>6.0</td>\n",
       "      <td>4.0</td>\n",
       "      <td>990.995</td>\n",
       "      <td>0.002729</td>\n",
       "      <td>326.742500</td>\n",
       "      <td>102008.00</td>\n",
       "      <td>...</td>\n",
       "      <td>476.250</td>\n",
       "      <td>2536.863281</td>\n",
       "      <td>25253.625000</td>\n",
       "      <td>73984.609375</td>\n",
       "      <td>215138.472656</td>\n",
       "      <td>414358.984375</td>\n",
       "      <td>2000-10-03</td>\n",
       "      <td>2000</td>\n",
       "      <td>10-03</td>\n",
       "      <td>10</td>\n",
       "    </tr>\n",
       "    <tr>\n",
       "      <th>3</th>\n",
       "      <td>772</td>\n",
       "      <td>13.0</td>\n",
       "      <td>498.0</td>\n",
       "      <td>25</td>\n",
       "      <td>12.0</td>\n",
       "      <td>4.0</td>\n",
       "      <td>1080.790</td>\n",
       "      <td>0.000000</td>\n",
       "      <td>306.050625</td>\n",
       "      <td>101879.16</td>\n",
       "      <td>...</td>\n",
       "      <td>478.250</td>\n",
       "      <td>2534.246094</td>\n",
       "      <td>25254.082031</td>\n",
       "      <td>74023.683594</td>\n",
       "      <td>215475.507812</td>\n",
       "      <td>414795.257812</td>\n",
       "      <td>2000-10-05</td>\n",
       "      <td>2000</td>\n",
       "      <td>10-05</td>\n",
       "      <td>10</td>\n",
       "    </tr>\n",
       "    <tr>\n",
       "      <th>4</th>\n",
       "      <td>773</td>\n",
       "      <td>13.0</td>\n",
       "      <td>423.0</td>\n",
       "      <td>25</td>\n",
       "      <td>18.0</td>\n",
       "      <td>4.0</td>\n",
       "      <td>1495.965</td>\n",
       "      <td>0.000030</td>\n",
       "      <td>332.835625</td>\n",
       "      <td>101365.80</td>\n",
       "      <td>...</td>\n",
       "      <td>476.375</td>\n",
       "      <td>2532.039062</td>\n",
       "      <td>25254.269531</td>\n",
       "      <td>74037.093750</td>\n",
       "      <td>215637.449219</td>\n",
       "      <td>415010.820312</td>\n",
       "      <td>2000-10-06</td>\n",
       "      <td>2000</td>\n",
       "      <td>10-06</td>\n",
       "      <td>10</td>\n",
       "    </tr>\n",
       "  </tbody>\n",
       "</table>\n",
       "<p>5 rows × 181 columns</p>\n",
       "</div>"
      ],
      "text/plain": [
       "   Unnamed: 0  Elevation  Total  Location  grass_count  label  av_abl_ht  \\\n",
       "0         769       13.0   76.0        25          4.0    4.0   1490.955   \n",
       "1         770       13.0   63.0        25          2.0    4.0   1083.750   \n",
       "2         771       13.0   65.0        25          6.0    4.0    990.995   \n",
       "3         772       13.0  498.0        25         12.0    4.0   1080.790   \n",
       "4         773       13.0  423.0        25         18.0    4.0   1495.965   \n",
       "\n",
       "   accum_prcp  av_lwsfcdown    av_mslp  ...  thermal_time_180D  soil_mois_1D  \\\n",
       "0    0.130126    291.743750  100769.72  ...            476.875   2537.160156   \n",
       "1    0.011325    312.027500  101798.64  ...            477.125   2537.273438   \n",
       "2    0.002729    326.742500  102008.00  ...            476.250   2536.863281   \n",
       "3    0.000000    306.050625  101879.16  ...            478.250   2534.246094   \n",
       "4    0.000030    332.835625  101365.80  ...            476.375   2532.039062   \n",
       "\n",
       "   soil_mois_10D  soil_mois_30D  soil_mois_90D  soil_mois_180D       date  \\\n",
       "0   25259.441406   73932.160156  214786.558594   413919.671875 2000-10-01   \n",
       "1   25255.527344   73959.710938  214964.300781   414139.425781 2000-10-02   \n",
       "2   25253.625000   73984.609375  215138.472656   414358.984375 2000-10-03   \n",
       "3   25254.082031   74023.683594  215475.507812   414795.257812 2000-10-05   \n",
       "4   25254.269531   74037.093750  215637.449219   415010.820312 2000-10-06   \n",
       "\n",
       "   year  date_1  month  \n",
       "0  2000   10-01     10  \n",
       "1  2000   10-02     10  \n",
       "2  2000   10-03     10  \n",
       "3  2000   10-05     10  \n",
       "4  2000   10-06     10  \n",
       "\n",
       "[5 rows x 181 columns]"
      ]
     },
     "execution_count": 27,
     "metadata": {},
     "output_type": "execute_result"
    }
   ],
   "source": [
    "drop_columns = ['Unnamed: 0', 'grass_count', 'Total', 'date', 'year' ,'date_1', 'month', 'label']\n",
    "\n",
    "data = pd.read_csv('../preprocessing/melbourne_data.csv')\n",
    "\n",
    "data['date'] = pd.to_datetime(data['date'])\n",
    "data.head()"
   ]
  },
  {
   "cell_type": "code",
   "execution_count": 28,
   "metadata": {},
   "outputs": [],
   "source": [
    "train_df = data.loc[data['date'] < pd.Timestamp(2020, 10, 1)]\n",
    "eval_df = data.loc[data['date'] >= pd.Timestamp(2020, 10, 1)]"
   ]
  },
  {
   "cell_type": "code",
   "execution_count": null,
   "metadata": {},
   "outputs": [],
   "source": []
  },
  {
   "cell_type": "code",
   "execution_count": 21,
   "metadata": {},
   "outputs": [
    {
     "name": "stdout",
     "output_type": "stream",
     "text": [
      "(1305, 173)\n",
      "(644, 173)\n"
     ]
    }
   ],
   "source": [
    "X_train, X_test, Y_train, Y_test = train_test_split(train_df.drop(drop_columns, axis=1), train_df.label, test_size=0.33, random_state=88)\n",
    "\n",
    "print(X_train.shape)\n",
    "print(X_test.shape)"
   ]
  },
  {
   "cell_type": "code",
   "execution_count": 22,
   "metadata": {},
   "outputs": [
    {
     "data": {
      "text/plain": [
       "0.6754658385093167"
      ]
     },
     "execution_count": 22,
     "metadata": {},
     "output_type": "execute_result"
    }
   ],
   "source": [
    "model = GradientBoostingClassifier()\n",
    "model.fit(X_train, Y_train)\n",
    "model.score(X_test, Y_test)"
   ]
  },
  {
   "cell_type": "code",
   "execution_count": null,
   "metadata": {},
   "outputs": [],
   "source": []
  },
  {
   "cell_type": "code",
   "execution_count": null,
   "metadata": {},
   "outputs": [],
   "source": []
  },
  {
   "cell_type": "code",
   "execution_count": 1,
   "metadata": {},
   "outputs": [],
   "source": [
    "from sklearn.feature_selection import SelectKBest, chi2, mutual_info_classif, f_regression, f_classif, mutual_info_regression\n",
    "from sklearn.model_selection import train_test_split, cross_val_score"
   ]
  },
  {
   "cell_type": "code",
   "execution_count": 22,
   "metadata": {},
   "outputs": [
    {
     "data": {
      "text/html": [
       "<div>\n",
       "<style scoped>\n",
       "    .dataframe tbody tr th:only-of-type {\n",
       "        vertical-align: middle;\n",
       "    }\n",
       "\n",
       "    .dataframe tbody tr th {\n",
       "        vertical-align: top;\n",
       "    }\n",
       "\n",
       "    .dataframe thead th {\n",
       "        text-align: right;\n",
       "    }\n",
       "</style>\n",
       "<table border=\"1\" class=\"dataframe\">\n",
       "  <thead>\n",
       "    <tr style=\"text-align: right;\">\n",
       "      <th></th>\n",
       "      <th>av_abl_ht</th>\n",
       "      <th>av_lwsfcdown</th>\n",
       "      <th>av_abl_ht_sum</th>\n",
       "      <th>av_lwsfcdown_sum</th>\n",
       "      <th>av_mslp_max_1h_rise</th>\n",
       "      <th>av_mslp_max_1h_fall</th>\n",
       "      <th>av_qsair_scrn_max</th>\n",
       "      <th>av_qsair_scrn_sum_afternoon</th>\n",
       "      <th>av_qsair_scrn_max_afternoon_1hrise</th>\n",
       "      <th>av_qsair_scrn_max_day_3hfall</th>\n",
       "      <th>av_temp_scrn_max_afternoon</th>\n",
       "      <th>av_temp_scrn_min_afternoon</th>\n",
       "      <th>av_wndgust10m_sum_afternoon</th>\n",
       "      <th>av_wndgust10m_max_afternoon_1hfall</th>\n",
       "      <th>av_wndgust10m_max_day_3hfall</th>\n",
       "      <th>morning_precp</th>\n",
       "      <th>morning_hrs_of_precp</th>\n",
       "      <th>next_morning_hrs_of_precp</th>\n",
       "      <th>av_swsfcdown_numhours_30D</th>\n",
       "      <th>topt_numhours_30D</th>\n",
       "    </tr>\n",
       "  </thead>\n",
       "  <tbody>\n",
       "    <tr>\n",
       "      <th>0</th>\n",
       "      <td>567.409722</td>\n",
       "      <td>291.515625</td>\n",
       "      <td>10213.375</td>\n",
       "      <td>5247.281250</td>\n",
       "      <td>126.0</td>\n",
       "      <td>-81.0</td>\n",
       "      <td>0.005371</td>\n",
       "      <td>0.024658</td>\n",
       "      <td>0.000000</td>\n",
       "      <td>-0.000732</td>\n",
       "      <td>286.078125</td>\n",
       "      <td>284.500000</td>\n",
       "      <td>43.750</td>\n",
       "      <td>-2.125</td>\n",
       "      <td>-6.000</td>\n",
       "      <td>0.000035</td>\n",
       "      <td>0.0</td>\n",
       "      <td>0.0</td>\n",
       "      <td>379.0</td>\n",
       "      <td>722.0</td>\n",
       "    </tr>\n",
       "    <tr>\n",
       "      <th>1</th>\n",
       "      <td>672.985000</td>\n",
       "      <td>316.624375</td>\n",
       "      <td>16824.625</td>\n",
       "      <td>7915.609375</td>\n",
       "      <td>63.0</td>\n",
       "      <td>-122.0</td>\n",
       "      <td>0.005615</td>\n",
       "      <td>0.037598</td>\n",
       "      <td>0.000488</td>\n",
       "      <td>-0.000977</td>\n",
       "      <td>289.093750</td>\n",
       "      <td>285.453125</td>\n",
       "      <td>53.500</td>\n",
       "      <td>-0.500</td>\n",
       "      <td>-4.500</td>\n",
       "      <td>0.141462</td>\n",
       "      <td>0.0</td>\n",
       "      <td>1.0</td>\n",
       "      <td>380.0</td>\n",
       "      <td>722.0</td>\n",
       "    </tr>\n",
       "    <tr>\n",
       "      <th>2</th>\n",
       "      <td>1351.370000</td>\n",
       "      <td>320.018125</td>\n",
       "      <td>33784.250</td>\n",
       "      <td>8000.453125</td>\n",
       "      <td>155.0</td>\n",
       "      <td>-183.0</td>\n",
       "      <td>0.006592</td>\n",
       "      <td>0.041748</td>\n",
       "      <td>0.000732</td>\n",
       "      <td>-0.000732</td>\n",
       "      <td>297.750000</td>\n",
       "      <td>291.109375</td>\n",
       "      <td>85.250</td>\n",
       "      <td>-2.375</td>\n",
       "      <td>-5.500</td>\n",
       "      <td>0.623656</td>\n",
       "      <td>1.0</td>\n",
       "      <td>0.0</td>\n",
       "      <td>381.0</td>\n",
       "      <td>722.0</td>\n",
       "    </tr>\n",
       "    <tr>\n",
       "      <th>3</th>\n",
       "      <td>896.015000</td>\n",
       "      <td>318.508125</td>\n",
       "      <td>22400.375</td>\n",
       "      <td>7962.703125</td>\n",
       "      <td>104.0</td>\n",
       "      <td>-26.0</td>\n",
       "      <td>0.006592</td>\n",
       "      <td>0.044922</td>\n",
       "      <td>0.000732</td>\n",
       "      <td>-0.001465</td>\n",
       "      <td>289.765625</td>\n",
       "      <td>285.640625</td>\n",
       "      <td>83.000</td>\n",
       "      <td>-1.750</td>\n",
       "      <td>-3.875</td>\n",
       "      <td>0.245373</td>\n",
       "      <td>0.0</td>\n",
       "      <td>0.0</td>\n",
       "      <td>382.0</td>\n",
       "      <td>722.0</td>\n",
       "    </tr>\n",
       "    <tr>\n",
       "      <th>4</th>\n",
       "      <td>1343.250000</td>\n",
       "      <td>309.666466</td>\n",
       "      <td>34924.500</td>\n",
       "      <td>8051.328125</td>\n",
       "      <td>200.0</td>\n",
       "      <td>-81.0</td>\n",
       "      <td>0.005615</td>\n",
       "      <td>0.041016</td>\n",
       "      <td>0.000244</td>\n",
       "      <td>-0.000977</td>\n",
       "      <td>290.890625</td>\n",
       "      <td>287.906250</td>\n",
       "      <td>98.375</td>\n",
       "      <td>-1.500</td>\n",
       "      <td>-2.875</td>\n",
       "      <td>0.003570</td>\n",
       "      <td>0.0</td>\n",
       "      <td>0.0</td>\n",
       "      <td>384.0</td>\n",
       "      <td>723.0</td>\n",
       "    </tr>\n",
       "  </tbody>\n",
       "</table>\n",
       "</div>"
      ],
      "text/plain": [
       "     av_abl_ht  av_lwsfcdown  av_abl_ht_sum  av_lwsfcdown_sum  \\\n",
       "0   567.409722    291.515625      10213.375       5247.281250   \n",
       "1   672.985000    316.624375      16824.625       7915.609375   \n",
       "2  1351.370000    320.018125      33784.250       8000.453125   \n",
       "3   896.015000    318.508125      22400.375       7962.703125   \n",
       "4  1343.250000    309.666466      34924.500       8051.328125   \n",
       "\n",
       "   av_mslp_max_1h_rise  av_mslp_max_1h_fall  av_qsair_scrn_max  \\\n",
       "0                126.0                -81.0           0.005371   \n",
       "1                 63.0               -122.0           0.005615   \n",
       "2                155.0               -183.0           0.006592   \n",
       "3                104.0                -26.0           0.006592   \n",
       "4                200.0                -81.0           0.005615   \n",
       "\n",
       "   av_qsair_scrn_sum_afternoon  av_qsair_scrn_max_afternoon_1hrise  \\\n",
       "0                     0.024658                            0.000000   \n",
       "1                     0.037598                            0.000488   \n",
       "2                     0.041748                            0.000732   \n",
       "3                     0.044922                            0.000732   \n",
       "4                     0.041016                            0.000244   \n",
       "\n",
       "   av_qsair_scrn_max_day_3hfall  av_temp_scrn_max_afternoon  \\\n",
       "0                     -0.000732                  286.078125   \n",
       "1                     -0.000977                  289.093750   \n",
       "2                     -0.000732                  297.750000   \n",
       "3                     -0.001465                  289.765625   \n",
       "4                     -0.000977                  290.890625   \n",
       "\n",
       "   av_temp_scrn_min_afternoon  av_wndgust10m_sum_afternoon  \\\n",
       "0                  284.500000                       43.750   \n",
       "1                  285.453125                       53.500   \n",
       "2                  291.109375                       85.250   \n",
       "3                  285.640625                       83.000   \n",
       "4                  287.906250                       98.375   \n",
       "\n",
       "   av_wndgust10m_max_afternoon_1hfall  av_wndgust10m_max_day_3hfall  \\\n",
       "0                              -2.125                        -6.000   \n",
       "1                              -0.500                        -4.500   \n",
       "2                              -2.375                        -5.500   \n",
       "3                              -1.750                        -3.875   \n",
       "4                              -1.500                        -2.875   \n",
       "\n",
       "   morning_precp  morning_hrs_of_precp  next_morning_hrs_of_precp  \\\n",
       "0       0.000035                   0.0                        0.0   \n",
       "1       0.141462                   0.0                        1.0   \n",
       "2       0.623656                   1.0                        0.0   \n",
       "3       0.245373                   0.0                        0.0   \n",
       "4       0.003570                   0.0                        0.0   \n",
       "\n",
       "   av_swsfcdown_numhours_30D  topt_numhours_30D  \n",
       "0                      379.0              722.0  \n",
       "1                      380.0              722.0  \n",
       "2                      381.0              722.0  \n",
       "3                      382.0              722.0  \n",
       "4                      384.0              723.0  "
      ]
     },
     "execution_count": 22,
     "metadata": {},
     "output_type": "execute_result"
    }
   ],
   "source": [
    "selector = SelectKBest(f_classif, k=20)\n",
    "selector.fit(X_origin, Y_origin)\n",
    "\n",
    "cols = selector.get_support(indices=True)\n",
    "features_df_new = melbourne_df.iloc[:,cols]\n",
    "\n",
    "melbourne_df[features_df_new.columns].head(5)\n",
    "\n",
    "\n",
    "# features_df_new = data.iloc[:,cols]\n",
    "\n",
    "# data[features_df_new.columns].head(5)"
   ]
  },
  {
   "cell_type": "code",
   "execution_count": 23,
   "metadata": {},
   "outputs": [
    {
     "data": {
      "text/plain": [
       "Index(['av_abl_ht', 'av_lwsfcdown', 'av_abl_ht_sum', 'av_lwsfcdown_sum',\n",
       "       'av_mslp_max_1h_rise', 'av_mslp_max_1h_fall', 'av_qsair_scrn_max',\n",
       "       'av_qsair_scrn_sum_afternoon', 'av_qsair_scrn_max_afternoon_1hrise',\n",
       "       'av_qsair_scrn_max_day_3hfall', 'av_temp_scrn_max_afternoon',\n",
       "       'av_temp_scrn_min_afternoon', 'av_wndgust10m_sum_afternoon',\n",
       "       'av_wndgust10m_max_afternoon_1hfall', 'av_wndgust10m_max_day_3hfall',\n",
       "       'morning_precp', 'morning_hrs_of_precp', 'next_morning_hrs_of_precp',\n",
       "       'av_swsfcdown_numhours_30D', 'topt_numhours_30D'],\n",
       "      dtype='object')"
      ]
     },
     "execution_count": 23,
     "metadata": {},
     "output_type": "execute_result"
    }
   ],
   "source": [
    "features_df_new.columns"
   ]
  },
  {
   "cell_type": "code",
   "execution_count": 24,
   "metadata": {},
   "outputs": [
    {
     "data": {
      "text/html": [
       "<div>\n",
       "<style scoped>\n",
       "    .dataframe tbody tr th:only-of-type {\n",
       "        vertical-align: middle;\n",
       "    }\n",
       "\n",
       "    .dataframe tbody tr th {\n",
       "        vertical-align: top;\n",
       "    }\n",
       "\n",
       "    .dataframe thead th {\n",
       "        text-align: right;\n",
       "    }\n",
       "</style>\n",
       "<table border=\"1\" class=\"dataframe\">\n",
       "  <thead>\n",
       "    <tr style=\"text-align: right;\">\n",
       "      <th></th>\n",
       "      <th>Count Date</th>\n",
       "      <th>Elevation</th>\n",
       "      <th>Total</th>\n",
       "      <th>Location</th>\n",
       "      <th>SchColTime</th>\n",
       "      <th>grass_count</th>\n",
       "      <th>label</th>\n",
       "      <th>av_abl_ht</th>\n",
       "      <th>accum_prcp</th>\n",
       "      <th>av_lwsfcdown</th>\n",
       "      <th>...</th>\n",
       "      <th>thermal_time_10D</th>\n",
       "      <th>thermal_time_30D</th>\n",
       "      <th>thermal_time_90D</th>\n",
       "      <th>thermal_time_180D</th>\n",
       "      <th>soil_mois_1D</th>\n",
       "      <th>soil_mois_10D</th>\n",
       "      <th>soil_mois_30D</th>\n",
       "      <th>soil_mois_90D</th>\n",
       "      <th>soil_mois_180D</th>\n",
       "      <th>date</th>\n",
       "    </tr>\n",
       "  </thead>\n",
       "  <tbody>\n",
       "    <tr>\n",
       "      <th>0</th>\n",
       "      <td>2017-09-26</td>\n",
       "      <td>28.0</td>\n",
       "      <td>76.0</td>\n",
       "      <td>1</td>\n",
       "      <td>09:00:00</td>\n",
       "      <td>0.0</td>\n",
       "      <td>1.0</td>\n",
       "      <td>567.409722</td>\n",
       "      <td>0.014479</td>\n",
       "      <td>291.515625</td>\n",
       "      <td>...</td>\n",
       "      <td>35.250</td>\n",
       "      <td>87.500</td>\n",
       "      <td>87.500</td>\n",
       "      <td>486.375</td>\n",
       "      <td>1792.332031</td>\n",
       "      <td>24080.046875</td>\n",
       "      <td>71414.628906</td>\n",
       "      <td>209709.917969</td>\n",
       "      <td>415718.011719</td>\n",
       "      <td>2017-09-26</td>\n",
       "    </tr>\n",
       "    <tr>\n",
       "      <th>1</th>\n",
       "      <td>2017-09-27</td>\n",
       "      <td>28.0</td>\n",
       "      <td>335.0</td>\n",
       "      <td>1</td>\n",
       "      <td>09:00:00</td>\n",
       "      <td>0.0</td>\n",
       "      <td>1.0</td>\n",
       "      <td>672.985000</td>\n",
       "      <td>0.044749</td>\n",
       "      <td>316.624375</td>\n",
       "      <td>...</td>\n",
       "      <td>36.250</td>\n",
       "      <td>89.250</td>\n",
       "      <td>89.250</td>\n",
       "      <td>487.500</td>\n",
       "      <td>2489.031250</td>\n",
       "      <td>24086.992188</td>\n",
       "      <td>71454.339844</td>\n",
       "      <td>209820.257812</td>\n",
       "      <td>415804.148438</td>\n",
       "      <td>2017-09-27</td>\n",
       "    </tr>\n",
       "    <tr>\n",
       "      <th>2</th>\n",
       "      <td>2017-09-28</td>\n",
       "      <td>28.0</td>\n",
       "      <td>857.0</td>\n",
       "      <td>1</td>\n",
       "      <td>09:00:00</td>\n",
       "      <td>3.0</td>\n",
       "      <td>1.0</td>\n",
       "      <td>1351.370000</td>\n",
       "      <td>0.038105</td>\n",
       "      <td>320.018125</td>\n",
       "      <td>...</td>\n",
       "      <td>36.500</td>\n",
       "      <td>90.875</td>\n",
       "      <td>90.875</td>\n",
       "      <td>487.375</td>\n",
       "      <td>2488.683594</td>\n",
       "      <td>24090.761719</td>\n",
       "      <td>71490.339844</td>\n",
       "      <td>209930.417969</td>\n",
       "      <td>415890.109375</td>\n",
       "      <td>2017-09-28</td>\n",
       "    </tr>\n",
       "    <tr>\n",
       "      <th>3</th>\n",
       "      <td>2017-09-29</td>\n",
       "      <td>28.0</td>\n",
       "      <td>235.0</td>\n",
       "      <td>1</td>\n",
       "      <td>09:00:00</td>\n",
       "      <td>0.0</td>\n",
       "      <td>1.0</td>\n",
       "      <td>896.015000</td>\n",
       "      <td>0.011231</td>\n",
       "      <td>318.508125</td>\n",
       "      <td>...</td>\n",
       "      <td>36.125</td>\n",
       "      <td>91.000</td>\n",
       "      <td>91.000</td>\n",
       "      <td>487.000</td>\n",
       "      <td>2488.316406</td>\n",
       "      <td>24092.531250</td>\n",
       "      <td>71522.316406</td>\n",
       "      <td>210040.222656</td>\n",
       "      <td>415975.867188</td>\n",
       "      <td>2017-09-29</td>\n",
       "    </tr>\n",
       "    <tr>\n",
       "      <th>4</th>\n",
       "      <td>2017-09-30</td>\n",
       "      <td>28.0</td>\n",
       "      <td>263.0</td>\n",
       "      <td>1</td>\n",
       "      <td>09:00:00</td>\n",
       "      <td>0.0</td>\n",
       "      <td>1.0</td>\n",
       "      <td>1343.250000</td>\n",
       "      <td>0.055731</td>\n",
       "      <td>309.666466</td>\n",
       "      <td>...</td>\n",
       "      <td>36.125</td>\n",
       "      <td>91.125</td>\n",
       "      <td>91.125</td>\n",
       "      <td>487.500</td>\n",
       "      <td>2587.183594</td>\n",
       "      <td>24192.238281</td>\n",
       "      <td>71650.304688</td>\n",
       "      <td>210248.914062</td>\n",
       "      <td>416160.636719</td>\n",
       "      <td>2017-09-30</td>\n",
       "    </tr>\n",
       "  </tbody>\n",
       "</table>\n",
       "<p>5 rows × 179 columns</p>\n",
       "</div>"
      ],
      "text/plain": [
       "  Count Date  Elevation  Total  Location SchColTime  grass_count  label  \\\n",
       "0 2017-09-26       28.0   76.0         1   09:00:00          0.0    1.0   \n",
       "1 2017-09-27       28.0  335.0         1   09:00:00          0.0    1.0   \n",
       "2 2017-09-28       28.0  857.0         1   09:00:00          3.0    1.0   \n",
       "3 2017-09-29       28.0  235.0         1   09:00:00          0.0    1.0   \n",
       "4 2017-09-30       28.0  263.0         1   09:00:00          0.0    1.0   \n",
       "\n",
       "     av_abl_ht  accum_prcp  av_lwsfcdown  ...  thermal_time_10D  \\\n",
       "0   567.409722    0.014479    291.515625  ...            35.250   \n",
       "1   672.985000    0.044749    316.624375  ...            36.250   \n",
       "2  1351.370000    0.038105    320.018125  ...            36.500   \n",
       "3   896.015000    0.011231    318.508125  ...            36.125   \n",
       "4  1343.250000    0.055731    309.666466  ...            36.125   \n",
       "\n",
       "   thermal_time_30D  thermal_time_90D  thermal_time_180D  soil_mois_1D  \\\n",
       "0            87.500            87.500            486.375   1792.332031   \n",
       "1            89.250            89.250            487.500   2489.031250   \n",
       "2            90.875            90.875            487.375   2488.683594   \n",
       "3            91.000            91.000            487.000   2488.316406   \n",
       "4            91.125            91.125            487.500   2587.183594   \n",
       "\n",
       "   soil_mois_10D  soil_mois_30D  soil_mois_90D  soil_mois_180D       date  \n",
       "0   24080.046875   71414.628906  209709.917969   415718.011719 2017-09-26  \n",
       "1   24086.992188   71454.339844  209820.257812   415804.148438 2017-09-27  \n",
       "2   24090.761719   71490.339844  209930.417969   415890.109375 2017-09-28  \n",
       "3   24092.531250   71522.316406  210040.222656   415975.867188 2017-09-29  \n",
       "4   24192.238281   71650.304688  210248.914062   416160.636719 2017-09-30  \n",
       "\n",
       "[5 rows x 179 columns]"
      ]
     },
     "execution_count": 24,
     "metadata": {},
     "output_type": "execute_result"
    }
   ],
   "source": [
    "# melbourne_df[['Count Date', 'Total', *features_df_new.columns]]\n",
    "melbourne_df.head(5)"
   ]
  },
  {
   "cell_type": "code",
   "execution_count": 25,
   "metadata": {},
   "outputs": [],
   "source": [
    "plotData = melbourne_df.loc[melbourne_df['Count Date'] > pd.Timestamp(2019, 10, 1)]\n",
    "plotData = plotData.loc[plotData['Count Date'] < pd.Timestamp(2020, 1, 1)]"
   ]
  },
  {
   "cell_type": "code",
   "execution_count": 26,
   "metadata": {},
   "outputs": [],
   "source": [
    "def normalize(df):\n",
    "    result = df.copy()\n",
    "    for feature_name in df.columns:\n",
    "        try:\n",
    "            max_value = df[feature_name].max()\n",
    "            min_value = df[feature_name].min()\n",
    "            result[feature_name] = (df[feature_name] - min_value) / (max_value - min_value)\n",
    "        except:\n",
    "            continue\n",
    "    return result"
   ]
  },
  {
   "cell_type": "code",
   "execution_count": 27,
   "metadata": {},
   "outputs": [],
   "source": [
    "plotData = normalize(plotData)"
   ]
  },
  {
   "cell_type": "code",
   "execution_count": 28,
   "metadata": {},
   "outputs": [
    {
     "data": {
      "application/vnd.plotly.v1+json": {
       "config": {
        "plotlyServerURL": "https://plot.ly"
       },
       "data": [
        {
         "mode": "lines",
         "name": "grass_count",
         "type": "scatter",
         "x": [
          0,
          0.011111111111111112,
          0.022222222222222223,
          0.03333333333333333,
          0.044444444444444446,
          0.05555555555555555,
          0.06666666666666667,
          0.07777777777777778,
          0.08888888888888889,
          0.1,
          0.1111111111111111,
          0.12222222222222222,
          0.13333333333333333,
          0.14444444444444443,
          0.15555555555555556,
          0.16666666666666666,
          0.18888888888888888,
          0.2,
          0.2111111111111111,
          0.2222222222222222,
          0.23333333333333334,
          0.24444444444444444,
          0.25555555555555554,
          0.2777777777777778,
          0.28888888888888886,
          0.3,
          0.3111111111111111,
          0.32222222222222224,
          0.3333333333333333,
          0.34444444444444444,
          0.35555555555555557,
          0.36666666666666664,
          0.37777777777777777,
          0.3888888888888889,
          0.4,
          0.4111111111111111,
          0.4222222222222222,
          0.43333333333333335,
          0.4444444444444444,
          0.45555555555555555,
          0.4666666666666667,
          0.4777777777777778,
          0.4888888888888889,
          0.5,
          0.5111111111111111,
          0.5222222222222223,
          0.5333333333333333,
          0.5444444444444444,
          0.5555555555555556,
          0.5666666666666667,
          0.5777777777777777,
          0.5888888888888889,
          0.6,
          0.6111111111111112,
          0.6222222222222222,
          0.6333333333333333,
          0.6444444444444445,
          0.6555555555555556,
          0.6666666666666666,
          0.6777777777777778,
          0.6888888888888889,
          0.7,
          0.7111111111111111,
          0.7222222222222222,
          0.7333333333333333,
          0.7444444444444445,
          0.7555555555555555,
          0.7666666666666667,
          0.7777777777777778,
          0.7888888888888889,
          0.8,
          0.8111111111111111,
          0.8222222222222222,
          0.8333333333333334,
          0.8444444444444444,
          0.8555555555555555,
          0.8666666666666667,
          0.8777777777777778,
          0.8888888888888888,
          0.9,
          0.9111111111111111,
          0.9222222222222223,
          0.9333333333333333,
          0.9444444444444444,
          0.9555555555555556,
          0.9666666666666667,
          0.9777777777777777,
          0.9888888888888889,
          1
         ],
         "y": [
          0.3333333333333333,
          0.3333333333333333,
          0,
          0.3333333333333333,
          0,
          0,
          0,
          0,
          0,
          0,
          0,
          0,
          0.3333333333333333,
          0,
          0,
          0,
          0,
          0,
          0,
          0,
          0,
          0.6666666666666666,
          1,
          0,
          0,
          0.3333333333333333,
          0.6666666666666666,
          0.6666666666666666,
          0.6666666666666666,
          0.6666666666666666,
          0,
          0,
          0,
          1,
          1,
          0,
          0,
          0,
          0.6666666666666666,
          1,
          0.3333333333333333,
          0,
          0.6666666666666666,
          0.3333333333333333,
          0,
          1,
          1,
          0,
          1,
          1,
          0.3333333333333333,
          0.3333333333333333,
          0.6666666666666666,
          1,
          0,
          1,
          0.3333333333333333,
          0,
          0,
          0,
          0,
          0.6666666666666666,
          0.6666666666666666,
          0.3333333333333333,
          0.3333333333333333,
          0,
          0.3333333333333333,
          1,
          0.3333333333333333,
          0,
          0,
          0.3333333333333333,
          0.3333333333333333,
          0.6666666666666666,
          0.3333333333333333,
          1,
          0.3333333333333333,
          0.3333333333333333,
          0.3333333333333333,
          0,
          0.3333333333333333,
          0,
          0.6666666666666666,
          0,
          0,
          1,
          0.6666666666666666,
          0.6666666666666666,
          0.3333333333333333
         ]
        },
        {
         "mode": "markers",
         "name": "av_qsair_scrn_max_afternoon_1hrise",
         "opacity": 0.65,
         "type": "scatter",
         "x": [
          0,
          0.011111111111111112,
          0.022222222222222223,
          0.03333333333333333,
          0.044444444444444446,
          0.05555555555555555,
          0.06666666666666667,
          0.07777777777777778,
          0.08888888888888889,
          0.1,
          0.1111111111111111,
          0.12222222222222222,
          0.13333333333333333,
          0.14444444444444443,
          0.15555555555555556,
          0.16666666666666666,
          0.18888888888888888,
          0.2,
          0.2111111111111111,
          0.2222222222222222,
          0.23333333333333334,
          0.24444444444444444,
          0.25555555555555554,
          0.2777777777777778,
          0.28888888888888886,
          0.3,
          0.3111111111111111,
          0.32222222222222224,
          0.3333333333333333,
          0.34444444444444444,
          0.35555555555555557,
          0.36666666666666664,
          0.37777777777777777,
          0.3888888888888889,
          0.4,
          0.4111111111111111,
          0.4222222222222222,
          0.43333333333333335,
          0.4444444444444444,
          0.45555555555555555,
          0.4666666666666667,
          0.4777777777777778,
          0.4888888888888889,
          0.5,
          0.5111111111111111,
          0.5222222222222223,
          0.5333333333333333,
          0.5444444444444444,
          0.5555555555555556,
          0.5666666666666667,
          0.5777777777777777,
          0.5888888888888889,
          0.6,
          0.6111111111111112,
          0.6222222222222222,
          0.6333333333333333,
          0.6444444444444445,
          0.6555555555555556,
          0.6666666666666666,
          0.6777777777777778,
          0.6888888888888889,
          0.7,
          0.7111111111111111,
          0.7222222222222222,
          0.7333333333333333,
          0.7444444444444445,
          0.7555555555555555,
          0.7666666666666667,
          0.7777777777777778,
          0.7888888888888889,
          0.8,
          0.8111111111111111,
          0.8222222222222222,
          0.8333333333333334,
          0.8444444444444444,
          0.8555555555555555,
          0.8666666666666667,
          0.8777777777777778,
          0.8888888888888888,
          0.9,
          0.9111111111111111,
          0.9222222222222223,
          0.9333333333333333,
          0.9444444444444444,
          0.9555555555555556,
          0.9666666666666667,
          0.9777777777777777,
          0.9888888888888889,
          1
         ],
         "y": [
          0.13135901082609217,
          0.1347699553358288,
          0.743932383465025,
          0.05175877726934042,
          0.24448479760081052,
          0.10449854333251404,
          0.03649031534754806,
          0.04798225862132166,
          0.021315521103462885,
          0,
          0.17820753028685815,
          0.02676986202841139,
          0.046561211872414174,
          0.44134525518723045,
          0.06890104307064984,
          0.047066206746360445,
          0.1786328175696786,
          0.0691754713533169,
          0.054201792421078004,
          0.042195307375437974,
          0.1052028522168122,
          0.08257274128275903,
          0.20355670582666094,
          0.03856226239144569,
          0.09643591784371962,
          0.021347944530361523,
          0.16514904013596945,
          0.1743439187115867,
          0.0891417275724229,
          0.08122978095363242,
          0.05535849817568688,
          0.18154957501443517,
          0.026390958259070927,
          0.09645005806045041,
          0.03228175453610497,
          0.11785915677654575,
          0.037779326696918324,
          0.037289192560300596,
          0.03270361934608613,
          0.06080356239793938,
          0.04333553122137338,
          0.10247631220986099,
          0.12067855387553168,
          0.03761369702451112,
          0.06405419107467719,
          0.013553622899153326,
          0.19221832350528228,
          0.09971707858078697,
          0.10087549557181551,
          1,
          0.03295048771588936,
          0.08928204895883422,
          0.21533316467147007,
          0.28303210918985294,
          0.030286903196166327,
          0.36843676661698377,
          0.09944427146946483,
          0.06482217596680129,
          0.05095683784404746,
          0.029599436480840503,
          0.012810586032726225,
          0.02638456363876592,
          0.04839538711905513,
          0.1224289686026845,
          0.008322553294431826,
          0.07168189231765627,
          0.07379644014189572,
          0.8435957832612798,
          0.06188164134231906,
          0.03568900637777814,
          0.03697171317191811,
          0.07889106115841879,
          0.07829014697989739,
          0.0787767685786011,
          0.053394719286526095,
          0.058760976568399965,
          0.20978200379119927,
          0.06514505925966689,
          0.06625204909303119,
          0.054832338009181775,
          0.019999310101527657,
          0.03392688319091193,
          0.10751842528782321,
          0.21442954177682,
          0.057965161568187866,
          0.05359574453329764,
          0.24824600518612713,
          0.3459127523409489,
          0.5112077429304995
         ]
        }
       ],
       "layout": {
        "template": {
         "data": {
          "bar": [
           {
            "error_x": {
             "color": "#2a3f5f"
            },
            "error_y": {
             "color": "#2a3f5f"
            },
            "marker": {
             "line": {
              "color": "#E5ECF6",
              "width": 0.5
             },
             "pattern": {
              "fillmode": "overlay",
              "size": 10,
              "solidity": 0.2
             }
            },
            "type": "bar"
           }
          ],
          "barpolar": [
           {
            "marker": {
             "line": {
              "color": "#E5ECF6",
              "width": 0.5
             },
             "pattern": {
              "fillmode": "overlay",
              "size": 10,
              "solidity": 0.2
             }
            },
            "type": "barpolar"
           }
          ],
          "carpet": [
           {
            "aaxis": {
             "endlinecolor": "#2a3f5f",
             "gridcolor": "white",
             "linecolor": "white",
             "minorgridcolor": "white",
             "startlinecolor": "#2a3f5f"
            },
            "baxis": {
             "endlinecolor": "#2a3f5f",
             "gridcolor": "white",
             "linecolor": "white",
             "minorgridcolor": "white",
             "startlinecolor": "#2a3f5f"
            },
            "type": "carpet"
           }
          ],
          "choropleth": [
           {
            "colorbar": {
             "outlinewidth": 0,
             "ticks": ""
            },
            "type": "choropleth"
           }
          ],
          "contour": [
           {
            "colorbar": {
             "outlinewidth": 0,
             "ticks": ""
            },
            "colorscale": [
             [
              0,
              "#0d0887"
             ],
             [
              0.1111111111111111,
              "#46039f"
             ],
             [
              0.2222222222222222,
              "#7201a8"
             ],
             [
              0.3333333333333333,
              "#9c179e"
             ],
             [
              0.4444444444444444,
              "#bd3786"
             ],
             [
              0.5555555555555556,
              "#d8576b"
             ],
             [
              0.6666666666666666,
              "#ed7953"
             ],
             [
              0.7777777777777778,
              "#fb9f3a"
             ],
             [
              0.8888888888888888,
              "#fdca26"
             ],
             [
              1,
              "#f0f921"
             ]
            ],
            "type": "contour"
           }
          ],
          "contourcarpet": [
           {
            "colorbar": {
             "outlinewidth": 0,
             "ticks": ""
            },
            "type": "contourcarpet"
           }
          ],
          "heatmap": [
           {
            "colorbar": {
             "outlinewidth": 0,
             "ticks": ""
            },
            "colorscale": [
             [
              0,
              "#0d0887"
             ],
             [
              0.1111111111111111,
              "#46039f"
             ],
             [
              0.2222222222222222,
              "#7201a8"
             ],
             [
              0.3333333333333333,
              "#9c179e"
             ],
             [
              0.4444444444444444,
              "#bd3786"
             ],
             [
              0.5555555555555556,
              "#d8576b"
             ],
             [
              0.6666666666666666,
              "#ed7953"
             ],
             [
              0.7777777777777778,
              "#fb9f3a"
             ],
             [
              0.8888888888888888,
              "#fdca26"
             ],
             [
              1,
              "#f0f921"
             ]
            ],
            "type": "heatmap"
           }
          ],
          "heatmapgl": [
           {
            "colorbar": {
             "outlinewidth": 0,
             "ticks": ""
            },
            "colorscale": [
             [
              0,
              "#0d0887"
             ],
             [
              0.1111111111111111,
              "#46039f"
             ],
             [
              0.2222222222222222,
              "#7201a8"
             ],
             [
              0.3333333333333333,
              "#9c179e"
             ],
             [
              0.4444444444444444,
              "#bd3786"
             ],
             [
              0.5555555555555556,
              "#d8576b"
             ],
             [
              0.6666666666666666,
              "#ed7953"
             ],
             [
              0.7777777777777778,
              "#fb9f3a"
             ],
             [
              0.8888888888888888,
              "#fdca26"
             ],
             [
              1,
              "#f0f921"
             ]
            ],
            "type": "heatmapgl"
           }
          ],
          "histogram": [
           {
            "marker": {
             "pattern": {
              "fillmode": "overlay",
              "size": 10,
              "solidity": 0.2
             }
            },
            "type": "histogram"
           }
          ],
          "histogram2d": [
           {
            "colorbar": {
             "outlinewidth": 0,
             "ticks": ""
            },
            "colorscale": [
             [
              0,
              "#0d0887"
             ],
             [
              0.1111111111111111,
              "#46039f"
             ],
             [
              0.2222222222222222,
              "#7201a8"
             ],
             [
              0.3333333333333333,
              "#9c179e"
             ],
             [
              0.4444444444444444,
              "#bd3786"
             ],
             [
              0.5555555555555556,
              "#d8576b"
             ],
             [
              0.6666666666666666,
              "#ed7953"
             ],
             [
              0.7777777777777778,
              "#fb9f3a"
             ],
             [
              0.8888888888888888,
              "#fdca26"
             ],
             [
              1,
              "#f0f921"
             ]
            ],
            "type": "histogram2d"
           }
          ],
          "histogram2dcontour": [
           {
            "colorbar": {
             "outlinewidth": 0,
             "ticks": ""
            },
            "colorscale": [
             [
              0,
              "#0d0887"
             ],
             [
              0.1111111111111111,
              "#46039f"
             ],
             [
              0.2222222222222222,
              "#7201a8"
             ],
             [
              0.3333333333333333,
              "#9c179e"
             ],
             [
              0.4444444444444444,
              "#bd3786"
             ],
             [
              0.5555555555555556,
              "#d8576b"
             ],
             [
              0.6666666666666666,
              "#ed7953"
             ],
             [
              0.7777777777777778,
              "#fb9f3a"
             ],
             [
              0.8888888888888888,
              "#fdca26"
             ],
             [
              1,
              "#f0f921"
             ]
            ],
            "type": "histogram2dcontour"
           }
          ],
          "mesh3d": [
           {
            "colorbar": {
             "outlinewidth": 0,
             "ticks": ""
            },
            "type": "mesh3d"
           }
          ],
          "parcoords": [
           {
            "line": {
             "colorbar": {
              "outlinewidth": 0,
              "ticks": ""
             }
            },
            "type": "parcoords"
           }
          ],
          "pie": [
           {
            "automargin": true,
            "type": "pie"
           }
          ],
          "scatter": [
           {
            "fillpattern": {
             "fillmode": "overlay",
             "size": 10,
             "solidity": 0.2
            },
            "type": "scatter"
           }
          ],
          "scatter3d": [
           {
            "line": {
             "colorbar": {
              "outlinewidth": 0,
              "ticks": ""
             }
            },
            "marker": {
             "colorbar": {
              "outlinewidth": 0,
              "ticks": ""
             }
            },
            "type": "scatter3d"
           }
          ],
          "scattercarpet": [
           {
            "marker": {
             "colorbar": {
              "outlinewidth": 0,
              "ticks": ""
             }
            },
            "type": "scattercarpet"
           }
          ],
          "scattergeo": [
           {
            "marker": {
             "colorbar": {
              "outlinewidth": 0,
              "ticks": ""
             }
            },
            "type": "scattergeo"
           }
          ],
          "scattergl": [
           {
            "marker": {
             "colorbar": {
              "outlinewidth": 0,
              "ticks": ""
             }
            },
            "type": "scattergl"
           }
          ],
          "scattermapbox": [
           {
            "marker": {
             "colorbar": {
              "outlinewidth": 0,
              "ticks": ""
             }
            },
            "type": "scattermapbox"
           }
          ],
          "scatterpolar": [
           {
            "marker": {
             "colorbar": {
              "outlinewidth": 0,
              "ticks": ""
             }
            },
            "type": "scatterpolar"
           }
          ],
          "scatterpolargl": [
           {
            "marker": {
             "colorbar": {
              "outlinewidth": 0,
              "ticks": ""
             }
            },
            "type": "scatterpolargl"
           }
          ],
          "scatterternary": [
           {
            "marker": {
             "colorbar": {
              "outlinewidth": 0,
              "ticks": ""
             }
            },
            "type": "scatterternary"
           }
          ],
          "surface": [
           {
            "colorbar": {
             "outlinewidth": 0,
             "ticks": ""
            },
            "colorscale": [
             [
              0,
              "#0d0887"
             ],
             [
              0.1111111111111111,
              "#46039f"
             ],
             [
              0.2222222222222222,
              "#7201a8"
             ],
             [
              0.3333333333333333,
              "#9c179e"
             ],
             [
              0.4444444444444444,
              "#bd3786"
             ],
             [
              0.5555555555555556,
              "#d8576b"
             ],
             [
              0.6666666666666666,
              "#ed7953"
             ],
             [
              0.7777777777777778,
              "#fb9f3a"
             ],
             [
              0.8888888888888888,
              "#fdca26"
             ],
             [
              1,
              "#f0f921"
             ]
            ],
            "type": "surface"
           }
          ],
          "table": [
           {
            "cells": {
             "fill": {
              "color": "#EBF0F8"
             },
             "line": {
              "color": "white"
             }
            },
            "header": {
             "fill": {
              "color": "#C8D4E3"
             },
             "line": {
              "color": "white"
             }
            },
            "type": "table"
           }
          ]
         },
         "layout": {
          "annotationdefaults": {
           "arrowcolor": "#2a3f5f",
           "arrowhead": 0,
           "arrowwidth": 1
          },
          "autotypenumbers": "strict",
          "coloraxis": {
           "colorbar": {
            "outlinewidth": 0,
            "ticks": ""
           }
          },
          "colorscale": {
           "diverging": [
            [
             0,
             "#8e0152"
            ],
            [
             0.1,
             "#c51b7d"
            ],
            [
             0.2,
             "#de77ae"
            ],
            [
             0.3,
             "#f1b6da"
            ],
            [
             0.4,
             "#fde0ef"
            ],
            [
             0.5,
             "#f7f7f7"
            ],
            [
             0.6,
             "#e6f5d0"
            ],
            [
             0.7,
             "#b8e186"
            ],
            [
             0.8,
             "#7fbc41"
            ],
            [
             0.9,
             "#4d9221"
            ],
            [
             1,
             "#276419"
            ]
           ],
           "sequential": [
            [
             0,
             "#0d0887"
            ],
            [
             0.1111111111111111,
             "#46039f"
            ],
            [
             0.2222222222222222,
             "#7201a8"
            ],
            [
             0.3333333333333333,
             "#9c179e"
            ],
            [
             0.4444444444444444,
             "#bd3786"
            ],
            [
             0.5555555555555556,
             "#d8576b"
            ],
            [
             0.6666666666666666,
             "#ed7953"
            ],
            [
             0.7777777777777778,
             "#fb9f3a"
            ],
            [
             0.8888888888888888,
             "#fdca26"
            ],
            [
             1,
             "#f0f921"
            ]
           ],
           "sequentialminus": [
            [
             0,
             "#0d0887"
            ],
            [
             0.1111111111111111,
             "#46039f"
            ],
            [
             0.2222222222222222,
             "#7201a8"
            ],
            [
             0.3333333333333333,
             "#9c179e"
            ],
            [
             0.4444444444444444,
             "#bd3786"
            ],
            [
             0.5555555555555556,
             "#d8576b"
            ],
            [
             0.6666666666666666,
             "#ed7953"
            ],
            [
             0.7777777777777778,
             "#fb9f3a"
            ],
            [
             0.8888888888888888,
             "#fdca26"
            ],
            [
             1,
             "#f0f921"
            ]
           ]
          },
          "colorway": [
           "#636efa",
           "#EF553B",
           "#00cc96",
           "#ab63fa",
           "#FFA15A",
           "#19d3f3",
           "#FF6692",
           "#B6E880",
           "#FF97FF",
           "#FECB52"
          ],
          "font": {
           "color": "#2a3f5f"
          },
          "geo": {
           "bgcolor": "white",
           "lakecolor": "white",
           "landcolor": "#E5ECF6",
           "showlakes": true,
           "showland": true,
           "subunitcolor": "white"
          },
          "hoverlabel": {
           "align": "left"
          },
          "hovermode": "closest",
          "mapbox": {
           "style": "light"
          },
          "paper_bgcolor": "white",
          "plot_bgcolor": "#E5ECF6",
          "polar": {
           "angularaxis": {
            "gridcolor": "white",
            "linecolor": "white",
            "ticks": ""
           },
           "bgcolor": "#E5ECF6",
           "radialaxis": {
            "gridcolor": "white",
            "linecolor": "white",
            "ticks": ""
           }
          },
          "scene": {
           "xaxis": {
            "backgroundcolor": "#E5ECF6",
            "gridcolor": "white",
            "gridwidth": 2,
            "linecolor": "white",
            "showbackground": true,
            "ticks": "",
            "zerolinecolor": "white"
           },
           "yaxis": {
            "backgroundcolor": "#E5ECF6",
            "gridcolor": "white",
            "gridwidth": 2,
            "linecolor": "white",
            "showbackground": true,
            "ticks": "",
            "zerolinecolor": "white"
           },
           "zaxis": {
            "backgroundcolor": "#E5ECF6",
            "gridcolor": "white",
            "gridwidth": 2,
            "linecolor": "white",
            "showbackground": true,
            "ticks": "",
            "zerolinecolor": "white"
           }
          },
          "shapedefaults": {
           "line": {
            "color": "#2a3f5f"
           }
          },
          "ternary": {
           "aaxis": {
            "gridcolor": "white",
            "linecolor": "white",
            "ticks": ""
           },
           "baxis": {
            "gridcolor": "white",
            "linecolor": "white",
            "ticks": ""
           },
           "bgcolor": "#E5ECF6",
           "caxis": {
            "gridcolor": "white",
            "linecolor": "white",
            "ticks": ""
           }
          },
          "title": {
           "x": 0.05
          },
          "xaxis": {
           "automargin": true,
           "gridcolor": "white",
           "linecolor": "white",
           "ticks": "",
           "title": {
            "standoff": 15
           },
           "zerolinecolor": "white",
           "zerolinewidth": 2
          },
          "yaxis": {
           "automargin": true,
           "gridcolor": "white",
           "linecolor": "white",
           "ticks": "",
           "title": {
            "standoff": 15
           },
           "zerolinecolor": "white",
           "zerolinewidth": 2
          }
         }
        }
       }
      }
     },
     "metadata": {},
     "output_type": "display_data"
    }
   ],
   "source": [
    "import plotly.express as px\n",
    "import plotly.graph_objects as go\n",
    "from plotly.subplots import make_subplots\n",
    "# import statsmodels\n",
    "\n",
    "# feature = 'topt_numhours_30D'\n",
    "# feature = 'av_wndgust10m_sum_afternoon'\n",
    "feature = 'av_qsair_scrn_max_afternoon_1hrise'\n",
    "\n",
    "fig = go.Figure()\n",
    "\n",
    "# fig = make_subplots(rows=1, cols=2)\n",
    "\n",
    "fig.add_trace(go.Scatter(x=plotData['Count Date'], y=plotData['label'], \n",
    "                mode='lines', name='grass_count'))\n",
    "\n",
    "fig.add_trace(go.Scatter(x=plotData['Count Date'], y=plotData[feature], \n",
    "                opacity=0.65, mode='markers', name=feature))\n",
    "\n",
    "\n",
    "# fig = px.line(plotData, x=\"Count Date\", y=\"grass_count\")\n",
    "# fig = px.scatter(plotData, x=\"Count Date\", y=\"av_lwsfcdown\", opacity=0.65)\n",
    "# fig.update_layout(height=300, width=500, title_text=\"Side By Side Subplots\")\n",
    "fig.show()"
   ]
  },
  {
   "cell_type": "code",
   "execution_count": 29,
   "metadata": {},
   "outputs": [
    {
     "data": {
      "image/png": "[encoded data removed]",
      "text/plain": [
       "<Figure size 1152x720 with 1 Axes>"
      ]
     },
     "metadata": {},
     "output_type": "display_data"
    }
   ],
   "source": [
    "import seaborn as sns\n",
    "\n",
    "sns.set(rc={'figure.figsize':(16,10)})\n",
    "sns.heatmap(features_df_new.corr(),\n",
    "            annot=True,\n",
    "            linewidths=.5,\n",
    "            center=0,\n",
    "            cbar=False,\n",
    "            # cmap=\"PiYG\"\n",
    "            )\n",
    "plt.show()"
   ]
  },
  {
   "cell_type": "code",
   "execution_count": 30,
   "metadata": {},
   "outputs": [
    {
     "data": {
      "text/plain": [
       "Index(['av_abl_ht', 'av_lwsfcdown', 'av_abl_ht_sum', 'av_lwsfcdown_sum',\n",
       "       'av_mslp_max_1h_rise', 'av_mslp_max_1h_fall', 'av_qsair_scrn_max',\n",
       "       'av_qsair_scrn_sum_afternoon', 'av_qsair_scrn_max_afternoon_1hrise',\n",
       "       'av_qsair_scrn_max_day_3hfall', 'av_temp_scrn_max_afternoon',\n",
       "       'av_temp_scrn_min_afternoon', 'av_wndgust10m_sum_afternoon',\n",
       "       'av_wndgust10m_max_afternoon_1hfall', 'av_wndgust10m_max_day_3hfall',\n",
       "       'morning_precp', 'morning_hrs_of_precp', 'next_morning_hrs_of_precp',\n",
       "       'av_swsfcdown_numhours_30D', 'topt_numhours_30D'],\n",
       "      dtype='object')"
      ]
     },
     "execution_count": 30,
     "metadata": {},
     "output_type": "execute_result"
    }
   ],
   "source": [
    "features_df_new.columns"
   ]
  },
  {
   "cell_type": "code",
   "execution_count": null,
   "metadata": {},
   "outputs": [],
   "source": []
  }
 ],
 "metadata": {
  "kernelspec": {
   "display_name": "Python 3.10.4 64-bit",
   "language": "python",
   "name": "python3"
  },
  "language_info": {
   "codemirror_mode": {
    "name": "ipython",
    "version": 3
   },
   "file_extension": ".py",
   "mimetype": "text/x-python",
   "name": "python",
   "nbconvert_exporter": "python",
   "pygments_lexer": "ipython3",
   "version": "3.10.4"
  },
  "orig_nbformat": 4,
  "vscode": {
   "interpreter": {
    "hash": "aee8b7b246df8f9039afb4144a1f6fd8d2ca17a180786b69acc140d282b71a49"
   }
  }
 },
 "nbformat": 4,
 "nbformat_minor": 2
}
